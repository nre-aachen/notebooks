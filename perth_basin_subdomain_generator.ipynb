{
 "cells": [
  {
   "cell_type": "markdown",
   "metadata": {},
   "source": [
    "# Perth basin subdomain generator\n",
    "Load the numpy array containing the subdomains for all the different types of material properties in the geological model. Then insert into the template input MOOSE file and save it under a different file.\n"
   ]
  },
  {
   "cell_type": "code",
   "execution_count": 1,
   "metadata": {
    "collapsed": true
   },
   "outputs": [],
   "source": [
    "import numpy as np\n",
    "import matplotlib.pyplot as plt\n",
    "import math"
   ]
  },
  {
   "cell_type": "markdown",
   "metadata": {},
   "source": [
    "## Model set up"
   ]
  },
  {
   "cell_type": "code",
   "execution_count": 3,
   "metadata": {
    "collapsed": true
   },
   "outputs": [],
   "source": [
    "#Load from file.\n",
    "geo_file=\"PB_sub.npy\"\n",
    "geo_array=np.load(geo_file)"
   ]
  },
  {
   "cell_type": "markdown",
   "metadata": {},
   "source": [
    "## Check the model"
   ]
  },
  {
   "cell_type": "code",
   "execution_count": 15,
   "metadata": {
    "collapsed": false
   },
   "outputs": [
    {
     "data": {
      "image/png": "[encoded data removed]",
      "text/plain": [
       "<matplotlib.figure.Figure at 0x10e972a90>"
      ]
     },
     "metadata": {},
     "output_type": "display_data"
    }
   ],
   "source": [
    "plt.imshow(geo_array[:,0,:],interpolation='nearest', cmap='viridis', origin='lower left')\n",
    "plt.show()"
   ]
  },
  {
   "cell_type": "markdown",
   "metadata": {},
   "source": [
    "## Flatten the 3D array"
   ]
  },
  {
   "cell_type": "code",
   "execution_count": 11,
   "metadata": {
    "collapsed": false
   },
   "outputs": [
    {
     "name": "stdout",
     "output_type": "stream",
     "text": [
      "(62720,)\n",
      "int64\n",
      "[ 0  0  0 ..., 12 12 12]\n"
     ]
    }
   ],
   "source": [
    "geo_flat = geo_array.flatten()\n",
    "print(geo_flat.shape)\n",
    "print(geo_flat.dtype)\n",
    "print(geo_flat)"
   ]
  },
  {
   "cell_type": "markdown",
   "metadata": {},
   "source": [
    "## Replace magic key string in template file"
   ]
  },
  {
   "cell_type": "code",
   "execution_count": 20,
   "metadata": {
    "collapsed": true
   },
   "outputs": [],
   "source": [
    "geo_string=\"'\"+\" \".join(str(x) for x in geo_flat)+\"'\"\n",
    "\n",
    "#Read the template file with the magic key in place\n",
    "template=\"/Users/guilherme/projects/Apex/problems/small_mesh/transient/td_btransient_sperth.i\"\n",
    "with open(template) as file:\n",
    "    file_str=file.read()\n",
    "    \n",
    "#Replace the magic key with the geo model\n",
    "file_str=file_str.replace('[magic_key]', geo_string)\n",
    "file_str=file_str.replace('TEMPLATE', '')\n",
    "\n",
    "#Save the modfied file into a different file\n",
    "output=\"/Users/guilherme/projects/Apex/problems/small_mesh/transient/d_btransient_sperth.i\"\n",
    "with open(output, \"w\") as f:\n",
    "    f.write(file_str)"
   ]
  },
  {
   "cell_type": "code",
   "execution_count": null,
   "metadata": {
    "collapsed": true
   },
   "outputs": [],
   "source": []
  }
 ],
 "metadata": {
  "anaconda-cloud": {},
  "kernelspec": {
   "display_name": "Python [conda root]",
   "language": "python",
   "name": "conda-root-py"
  },
  "language_info": {
   "codemirror_mode": {
    "name": "ipython",
    "version": 3
   },
   "file_extension": ".py",
   "mimetype": "text/x-python",
   "name": "python",
   "nbconvert_exporter": "python",
   "pygments_lexer": "ipython3",
   "version": "3.5.2"
  }
 },
 "nbformat": 4,
 "nbformat_minor": 1
}
