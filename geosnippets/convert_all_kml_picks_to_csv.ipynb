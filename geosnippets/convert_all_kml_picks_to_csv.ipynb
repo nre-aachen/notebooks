{
 "cells": [
  {
   "cell_type": "markdown",
   "metadata": {},
   "source": [
    "# Convert KML picks to orientation\n",
    "\n",
    "And save in csv files for import in Geomodeller\n",
    "\n",
    "\n",
    "## Materials and Methods\n",
    "\n",
    "### Digital Elevation Models and remote sensing data\n",
    "\n",
    "A wealth of information from remote sensing measurements about the Earth is available today. A widely used example are the Digital Elevation Models (DEM's) obtained from diverse satellite campaigns. These measurements already started in the [...] and are constantly refined. At the time of preparation for this manuscript, [some information on current state]. [Some more background information].\n",
    "\n",
    "In addition to DEM's, we have access to multiple other interesting remote sensing data sets that can be of interest to geological investigations. One remarkable example are the measurements from the ASTER campaign, which combine [...] and provide proxies for the mineral composition of the surface of the Earth. [more on ASTER - maybe from Klaus?]\n",
    "\n",
    "### GoogleEarth\n",
    "\n",
    "\n",
    "### Plane interpolation using Singular Value Decomposition\n",
    "\n",
    "[Some words on interpolation - and why a conventional z = f(x,y) least square fit would be misleading]\n",
    "\n",
    "\n"
   ]
  },
  {
   "cell_type": "code",
   "execution_count": 1,
   "metadata": {
    "collapsed": true
   },
   "outputs": [],
   "source": [
    "# basic imports\n",
    "import matplotlib.pyplot as plt\n",
    "import numpy as np\n",
    "import sys\n",
    "import os"
   ]
  },
  {
   "cell_type": "code",
   "execution_count": 2,
   "metadata": {
    "collapsed": true
   },
   "outputs": [],
   "source": [
    "%matplotlib inline"
   ]
  },
  {
   "cell_type": "code",
   "execution_count": 3,
   "metadata": {
    "collapsed": false
   },
   "outputs": [
    {
     "data": {
      "text/plain": [
       "<module 'kml_to_plane' from '/Users/flow/git/geosnippets/kml_to_plane.pyc'>"
      ]
     },
     "execution_count": 3,
     "metadata": {},
     "output_type": "execute_result"
    }
   ],
   "source": [
    "# own package to process files\n",
    "sys.path.append(r\"/Users/flow/git/geosnippets/\")\n",
    "import kml_to_plane\n",
    "reload(kml_to_plane)"
   ]
  },
  {
   "cell_type": "code",
   "execution_count": 4,
   "metadata": {
    "collapsed": false
   },
   "outputs": [],
   "source": [
    "# set names for exported kml files (simply: all .kml files in specified folder):\n",
    "pick_files = []\n",
    "pick_file_folder = r'/Users/flow/Documents/01_work/62_GIS/Oman/picks'\n",
    "for f in os.listdir(pick_file_folder):\n",
    "    if os.path.splitext(f)[1] == '.kml':\n",
    "        pick_files.append(f)"
   ]
  },
  {
   "cell_type": "code",
   "execution_count": 5,
   "metadata": {
    "collapsed": false
   },
   "outputs": [
    {
     "name": "stdout",
     "output_type": "stream",
     "text": [
      "['field_work.kml', 'field_work_day2.kml', 'field_work_day3.kml', 'prep.kml', 'saiq.kml']\n"
     ]
    }
   ],
   "source": [
    "print(pick_files)"
   ]
  },
  {
   "cell_type": "code",
   "execution_count": 11,
   "metadata": {
    "collapsed": false
   },
   "outputs": [
    {
     "name": "stdout",
     "output_type": "stream",
     "text": [
      "read kml\n",
      "28 point sets added\n",
      "28 point sets remaining\n",
      "Note: for efficiency reasons, add the most important geotiff first!\n"
     ]
    }
   ],
   "source": [
    "# k1 = kml_to_plane.KmlPoints(filename = \"plane_picks.kml\")\n",
    "reload(kml_to_plane)\n",
    "k1 = kml_to_plane.KmlPoints(filename = os.path.join(pick_file_folder, 'field_work_day2.kml'),\n",
    "                            debug=True)\n",
    "k1.test_point_sets()\n",
    "k1.add_geotiff(\"/Users/flow/Documents/01_work/62_GIS/Oman/ASTGTM2_N23E057/ASTGTM2_N23E057_dem.tif\")\n",
    "k1.determine_z_values()"
   ]
  },
  {
   "cell_type": "code",
   "execution_count": 12,
   "metadata": {
    "collapsed": false
   },
   "outputs": [
    {
     "name": "stdout",
     "output_type": "stream",
     "text": [
      "Convert Lat/Long to UTM\n"
     ]
    }
   ],
   "source": [
    "k1.fit_plane_to_all_sets()"
   ]
  },
  {
   "cell_type": "code",
   "execution_count": 13,
   "metadata": {
    "collapsed": false
   },
   "outputs": [
    {
     "data": {
      "text/plain": [
       "p(593823.328586, 2575629.310114, 480.714286) in utm"
      ]
     },
     "execution_count": 13,
     "metadata": {},
     "output_type": "execute_result"
    }
   ],
   "source": [
    "k1.point_sets[0].ctr"
   ]
  },
  {
   "cell_type": "code",
   "execution_count": 14,
   "metadata": {
    "collapsed": false
   },
   "outputs": [
    {
     "name": "stdout",
     "output_type": "stream",
     "text": [
      "utm\n",
      "utm\n"
     ]
    }
   ],
   "source": [
    "print(k1.point_sets[0].type)\n",
    "print(k1.type)"
   ]
  },
  {
   "cell_type": "code",
   "execution_count": 15,
   "metadata": {
    "collapsed": false
   },
   "outputs": [
    {
     "name": "stdout",
     "output_type": "stream",
     "text": [
      "Convert UTM to Lat/Long\n",
      "latlong\n",
      "latlong\n"
     ]
    }
   ],
   "source": [
    "k1.utm_to_latlong()\n",
    "print(k1.point_sets[0].type)\n",
    "print(k1.type)"
   ]
  },
  {
   "cell_type": "code",
   "execution_count": 16,
   "metadata": {
    "collapsed": false
   },
   "outputs": [
    {
     "data": {
      "text/plain": [
       "'latlong'"
      ]
     },
     "execution_count": 16,
     "metadata": {},
     "output_type": "execute_result"
    }
   ],
   "source": [
    "k1.type"
   ]
  },
  {
   "cell_type": "code",
   "execution_count": 17,
   "metadata": {
    "collapsed": false
   },
   "outputs": [
    {
     "data": {
      "text/plain": [
       "[Point set with 7 points; latlong; Centroid: at (57.92, 23.29, 480.71),\n",
       " Point set with 7 points; latlong; Centroid: at (57.91, 23.29, 802.00),\n",
       " Point set with 9 points; latlong; Centroid: at (57.90, 23.28, 1077.00),\n",
       " Point set with 10 points; latlong; Centroid: at (57.87, 23.23, 724.70),\n",
       " Point set with 9 points; latlong; Centroid: at (57.87, 23.24, 842.89),\n",
       " Point set with 7 points; latlong; Centroid: at (57.85, 23.24, 1546.71),\n",
       " Point set with 6 points; latlong; Centroid: at (57.82, 23.21, 2367.33),\n",
       " Point set with 8 points; latlong; Centroid: at (57.83, 23.20, 2167.62),\n",
       " Point set with 6 points; latlong; Centroid: at (57.84, 23.20, 1495.50),\n",
       " Point set with 9 points; latlong; Centroid: at (57.83, 23.18, 1525.00),\n",
       " Point set with 12 points; latlong; Centroid: at (57.84, 23.16, 969.92),\n",
       " Point set with 8 points; latlong; Centroid: at (57.85, 23.17, 590.00),\n",
       " Point set with 10 points; latlong; Centroid: at (57.83, 23.17, 1198.50),\n",
       " Point set with 10 points; latlong; Centroid: at (57.83, 23.16, 1423.50),\n",
       " Point set with 11 points; latlong; Centroid: at (57.84, 23.15, 770.55),\n",
       " Point set with 9 points; latlong; Centroid: at (57.84, 23.14, 768.33),\n",
       " Point set with 12 points; latlong; Centroid: at (57.83, 23.14, 898.75),\n",
       " Point set with 9 points; latlong; Centroid: at (57.83, 23.13, 853.00),\n",
       " Point set with 8 points; latlong; Centroid: at (57.83, 23.14, 1142.88),\n",
       " Point set with 6 points; latlong; Centroid: at (57.82, 23.14, 1397.83),\n",
       " Point set with 8 points; latlong; Centroid: at (57.82, 23.14, 1435.50),\n",
       " Point set with 8 points; latlong; Centroid: at (57.81, 23.14, 1816.12),\n",
       " Point set with 12 points; latlong; Centroid: at (57.81, 23.13, 1817.58),\n",
       " Point set with 9 points; latlong; Centroid: at (57.81, 23.12, 1506.78),\n",
       " Point set with 8 points; latlong; Centroid: at (57.81, 23.12, 1363.50),\n",
       " Point set with 18 points; latlong; Centroid: at (57.82, 23.12, 1166.78),\n",
       " Point set with 12 points; latlong; Centroid: at (57.82, 23.13, 1432.33),\n",
       " Point set with 7 points; latlong; Centroid: at (57.91, 23.33, 1069.00)]"
      ]
     },
     "execution_count": 17,
     "metadata": {},
     "output_type": "execute_result"
    }
   ],
   "source": [
    "k1.point_sets"
   ]
  },
  {
   "cell_type": "code",
   "execution_count": 18,
   "metadata": {
    "collapsed": false
   },
   "outputs": [
    {
     "name": "stdout",
     "output_type": "stream",
     "text": [
      "Convert Lat/Long to UTM\n",
      "utm\n",
      "utm\n"
     ]
    }
   ],
   "source": [
    "k1.latlong_to_utm()\n",
    "print(k1.point_sets[0].type)\n",
    "print(k1.type)"
   ]
  },
  {
   "cell_type": "code",
   "execution_count": 19,
   "metadata": {
    "collapsed": false
   },
   "outputs": [
    {
     "data": {
      "text/plain": [
       "[Point set with 7 points; utm; Centroid: at (593823.33, 2575629.31, 480.71),\n",
       " Point set with 7 points; utm; Centroid: at (593161.63, 2575384.06, 802.00),\n",
       " Point set with 9 points; utm; Centroid: at (592518.94, 2575272.24, 1077.00),\n",
       " Point set with 10 points; utm; Centroid: at (588969.38, 2569585.45, 724.70),\n",
       " Point set with 9 points; utm; Centroid: at (588535.05, 2570113.45, 842.89),\n",
       " Point set with 7 points; utm; Centroid: at (587178.18, 2570165.13, 1546.71),\n",
       " Point set with 6 points; utm; Centroid: at (584316.12, 2567104.75, 2367.33),\n",
       " Point set with 8 points; utm; Centroid: at (584514.89, 2566009.30, 2167.62),\n",
       " Point set with 6 points; utm; Centroid: at (585972.84, 2565740.42, 1495.50),\n",
       " Point set with 9 points; utm; Centroid: at (585099.44, 2563624.30, 1525.00),\n",
       " Point set with 12 points; utm; Centroid: at (586143.79, 2561830.79, 969.92),\n",
       " Point set with 8 points; utm; Centroid: at (586627.09, 2562442.10, 590.00),\n",
       " Point set with 10 points; utm; Centroid: at (585231.75, 2562074.76, 1198.50),\n",
       " Point set with 10 points; utm; Centroid: at (584905.33, 2561639.00, 1423.50),\n",
       " Point set with 11 points; utm; Centroid: at (585648.72, 2560415.69, 770.55),\n",
       " Point set with 9 points; utm; Centroid: at (585629.99, 2559651.57, 768.33),\n",
       " Point set with 12 points; utm; Centroid: at (585119.91, 2559183.04, 898.75),\n",
       " Point set with 9 points; utm; Centroid: at (585124.83, 2558467.60, 853.00),\n",
       " Point set with 8 points; utm; Centroid: at (584611.89, 2558936.25, 1142.88),\n",
       " Point set with 6 points; utm; Centroid: at (584265.12, 2559038.25, 1397.83),\n",
       " Point set with 8 points; utm; Centroid: at (584006.82, 2559160.90, 1435.50),\n",
       " Point set with 8 points; utm; Centroid: at (583136.35, 2558781.17, 1816.12),\n",
       " Point set with 12 points; utm; Centroid: at (583112.37, 2558397.46, 1817.58),\n",
       " Point set with 9 points; utm; Centroid: at (583332.74, 2557495.61, 1506.78),\n",
       " Point set with 8 points; utm; Centroid: at (583252.89, 2557153.15, 1363.50),\n",
       " Point set with 18 points; utm; Centroid: at (583859.85, 2557491.57, 1166.78),\n",
       " Point set with 12 points; utm; Centroid: at (583702.86, 2558147.50, 1432.33),\n",
       " Point set with 7 points; utm; Centroid: at (593255.31, 2579872.13, 1069.00)]"
      ]
     },
     "execution_count": 19,
     "metadata": {},
     "output_type": "execute_result"
    }
   ],
   "source": [
    "k1.point_sets"
   ]
  },
  {
   "cell_type": "code",
   "execution_count": 20,
   "metadata": {
    "collapsed": false
   },
   "outputs": [
    {
     "name": "stdout",
     "output_type": "stream",
     "text": [
      "Convert UTM to Lat/Long\n",
      "latlong\n",
      "latlong\n"
     ]
    }
   ],
   "source": [
    "k1.utm_to_latlong()\n",
    "print(k1.point_sets[0].type)\n",
    "print(k1.type)"
   ]
  },
  {
   "cell_type": "code",
   "execution_count": 21,
   "metadata": {
    "collapsed": false
   },
   "outputs": [
    {
     "data": {
      "text/plain": [
       "[Point set with 7 points; latlong; Centroid: at (57.92, 23.29, 480.71),\n",
       " Point set with 7 points; latlong; Centroid: at (57.91, 23.29, 802.00),\n",
       " Point set with 9 points; latlong; Centroid: at (57.90, 23.28, 1077.00),\n",
       " Point set with 10 points; latlong; Centroid: at (57.87, 23.23, 724.70),\n",
       " Point set with 9 points; latlong; Centroid: at (57.87, 23.24, 842.89),\n",
       " Point set with 7 points; latlong; Centroid: at (57.85, 23.24, 1546.71),\n",
       " Point set with 6 points; latlong; Centroid: at (57.82, 23.21, 2367.33),\n",
       " Point set with 8 points; latlong; Centroid: at (57.83, 23.20, 2167.62),\n",
       " Point set with 6 points; latlong; Centroid: at (57.84, 23.20, 1495.50),\n",
       " Point set with 9 points; latlong; Centroid: at (57.83, 23.18, 1525.00),\n",
       " Point set with 12 points; latlong; Centroid: at (57.84, 23.16, 969.92),\n",
       " Point set with 8 points; latlong; Centroid: at (57.85, 23.17, 590.00),\n",
       " Point set with 10 points; latlong; Centroid: at (57.83, 23.17, 1198.50),\n",
       " Point set with 10 points; latlong; Centroid: at (57.83, 23.16, 1423.50),\n",
       " Point set with 11 points; latlong; Centroid: at (57.84, 23.15, 770.55),\n",
       " Point set with 9 points; latlong; Centroid: at (57.84, 23.14, 768.33),\n",
       " Point set with 12 points; latlong; Centroid: at (57.83, 23.14, 898.75),\n",
       " Point set with 9 points; latlong; Centroid: at (57.83, 23.13, 853.00),\n",
       " Point set with 8 points; latlong; Centroid: at (57.83, 23.14, 1142.88),\n",
       " Point set with 6 points; latlong; Centroid: at (57.82, 23.14, 1397.83),\n",
       " Point set with 8 points; latlong; Centroid: at (57.82, 23.14, 1435.50),\n",
       " Point set with 8 points; latlong; Centroid: at (57.81, 23.14, 1816.12),\n",
       " Point set with 12 points; latlong; Centroid: at (57.81, 23.13, 1817.58),\n",
       " Point set with 9 points; latlong; Centroid: at (57.81, 23.12, 1506.78),\n",
       " Point set with 8 points; latlong; Centroid: at (57.81, 23.12, 1363.50),\n",
       " Point set with 18 points; latlong; Centroid: at (57.82, 23.12, 1166.78),\n",
       " Point set with 12 points; latlong; Centroid: at (57.82, 23.13, 1432.33),\n",
       " Point set with 7 points; latlong; Centroid: at (57.91, 23.33, 1069.00)]"
      ]
     },
     "execution_count": 21,
     "metadata": {},
     "output_type": "execute_result"
    }
   ],
   "source": [
    "k1.point_sets"
   ]
  },
  {
   "cell_type": "code",
   "execution_count": null,
   "metadata": {
    "collapsed": true
   },
   "outputs": [],
   "source": []
  }
 ],
 "metadata": {
  "kernelspec": {
   "display_name": "Python 2",
   "language": "python",
   "name": "python2"
  },
  "language_info": {
   "codemirror_mode": {
    "name": "ipython",
    "version": 2
   },
   "file_extension": ".py",
   "mimetype": "text/x-python",
   "name": "python",
   "nbconvert_exporter": "python",
   "pygments_lexer": "ipython2",
   "version": "2.7.11"
  }
 },
 "nbformat": 4,
 "nbformat_minor": 0
}
